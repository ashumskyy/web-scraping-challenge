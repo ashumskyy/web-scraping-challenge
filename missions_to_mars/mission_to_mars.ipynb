{
 "cells": [
  {
   "cell_type": "code",
   "execution_count": 1,
   "id": "4b36b079",
   "metadata": {},
   "outputs": [],
   "source": [
    "from splinter import Browser\n",
    "from bs4 import BeautifulSoup as bs\n",
    "from webdriver_manager.chrome import ChromeDriverManager\n",
    "import requests\n",
    "import time\n",
    "import pandas as pd"
   ]
  },
  {
   "cell_type": "code",
   "execution_count": null,
   "id": "d7d8d02d",
   "metadata": {},
   "outputs": [],
   "source": [
    "# Setup splinter\n",
    "executable_path = {'executable_path': ChromeDriverManager().install()}\n",
    "browser = Browser('chrome', **executable_path, headless=False)"
   ]
  },
  {
   "cell_type": "markdown",
   "id": "bbcc293a",
   "metadata": {},
   "source": [
    "### NASA Mars News"
   ]
  },
  {
   "cell_type": "code",
   "execution_count": null,
   "id": "26514e4c",
   "metadata": {},
   "outputs": [],
   "source": [
    "# url to the page\n",
    "url_red_plante = 'https://redplanetscience.com'\n",
    "\n",
    "# Use the browser to navigate to the given URL.\n",
    "browser.visit(url_red_plante)"
   ]
  },
  {
   "cell_type": "code",
   "execution_count": null,
   "id": "4e90e50b",
   "metadata": {},
   "outputs": [],
   "source": [
    "# create a BeautifulSoup object for the NASA News page\n",
    "html = browser.html\n",
    "soup = bs(html, 'html.parser')"
   ]
  },
  {
   "cell_type": "code",
   "execution_count": null,
   "id": "b2f2b898",
   "metadata": {},
   "outputs": [],
   "source": [
    "# the first article of the page\n",
    "article = soup.find('div', class_='list_text')\n",
    "\n",
    "# the title of the article\n",
    "article_title = article.find('div', class_='content_title').text\n",
    "\n",
    "# the article text (paragraph)\n",
    "article_paragraph = article.find('div', class_='article_teaser_body').text\n",
    "\n",
    "# printing the title and the article\n",
    "print(\"News title: \" + article_title + \"\\n--------\\n\" + \"News paragraph: \" + article_paragraph)\n",
    "    \n",
    "\n",
    "\n",
    "# OPTION 2 with find all\n",
    "\n",
    "# news_title = soup.find_all('div', class_='content_title')[0].text\n",
    "# paragraph_text = soup.find_all('div', class_='article_teaser_body')[0].text   \n",
    "# print(f\"The latest News Title: {news_title}.\")\n",
    "# print('-------------')\n",
    "# print(f\"Paragraph Text: {paragraph_text}.\")\n",
    "\n",
    "\n",
    "\n",
    "# FIND ALL THE TITLES AND PARAGRAPHS\n",
    "\n",
    "# for i in range(len(news_title)):        \n",
    "#     print(\"Title: \", news_title[i].text)\n",
    "#     print(\"Paragraph: \", paragraph_text[i].text)\n",
    "#     print('-------------------')\n"
   ]
  },
  {
   "cell_type": "markdown",
   "id": "de245ba0",
   "metadata": {},
   "source": [
    "### Mars Facts"
   ]
  },
  {
   "cell_type": "code",
   "execution_count": null,
   "id": "98b84586",
   "metadata": {},
   "outputs": [],
   "source": [
    "# url for the mars facts page\n",
    "url_mars_facts = 'https://galaxyfacts-mars.com'\n"
   ]
  },
  {
   "cell_type": "code",
   "execution_count": null,
   "id": "ae73f696",
   "metadata": {},
   "outputs": [],
   "source": [
    "# reading the html \n",
    "mars_facts = pd.read_html(url_mars_facts)\n",
    "mars_facts"
   ]
  },
  {
   "cell_type": "code",
   "execution_count": null,
   "id": "1eb123bf",
   "metadata": {},
   "outputs": [],
   "source": [
    "# getting the first item from the list mars_facts\n",
    "mars_facts_df = pd.DataFrame(mars_facts[0])\n",
    "\n",
    "# assigning the first row of the df as column labels for the DataFrame.\n",
    "mars_facts_df.columns = mars_facts_df.loc[0]\n",
    "\n",
    "# setting the index \n",
    "mars_facts_df.set_index('Mars - Earth Comparison', inplace=True)\n",
    "\n",
    "# dropping not needed column\n",
    "mars_facts_df.drop('Mars - Earth Comparison', inplace=True)\n",
    "mars_facts_df"
   ]
  },
  {
   "cell_type": "code",
   "execution_count": null,
   "id": "04962337",
   "metadata": {},
   "outputs": [],
   "source": [
    "# saving the df to html\n",
    "mars_facts_df.to_html('mars_facts_table.html')"
   ]
  },
  {
   "cell_type": "markdown",
   "id": "d09fa17b",
   "metadata": {},
   "source": [
    "### JPL Mars Space Images - Featured Image"
   ]
  },
  {
   "cell_type": "code",
   "execution_count": null,
   "id": "63f83dfd",
   "metadata": {},
   "outputs": [],
   "source": [
    "# navigate to the main page\n",
    "url_images = 'https://spaceimages-mars.com/'\n",
    "browser.visit(url_images)"
   ]
  },
  {
   "cell_type": "code",
   "execution_count": null,
   "id": "a30c880e",
   "metadata": {},
   "outputs": [],
   "source": [
    "# find all the image button and clicking on it\n",
    "browser.find_by_text(' FULL IMAGE').first.click()\n",
    "\n",
    "# getting the image\n",
    "img = browser.find_by_css('img.fancybox-image')\n",
    "\n",
    "# find the image url\n",
    "featured_image_url = img['src']\n"
   ]
  },
  {
   "cell_type": "code",
   "execution_count": null,
   "id": "f39cf3f3",
   "metadata": {},
   "outputs": [],
   "source": [
    "featured_image_url"
   ]
  },
  {
   "cell_type": "markdown",
   "id": "e8690bb5",
   "metadata": {},
   "source": [
    "### Mars Hemispheres"
   ]
  },
  {
   "cell_type": "code",
   "execution_count": null,
   "id": "a88b519b",
   "metadata": {},
   "outputs": [],
   "source": [
    "# navigate to the main page\n",
    "url_hemisphere = 'https://marshemispheres.com/'\n",
    "browser.visit(url_hemisphere)"
   ]
  },
  {
   "cell_type": "code",
   "execution_count": null,
   "id": "0e46ba82",
   "metadata": {},
   "outputs": [],
   "source": [
    "# OPTION 1 (Small resolution)\n",
    "\n",
    "# create a BeautifulSoup object for the hemisphere page\n",
    "html = browser.html\n",
    "soup = bs(html, 'html.parser')"
   ]
  },
  {
   "cell_type": "code",
   "execution_count": null,
   "id": "10de31c3",
   "metadata": {},
   "outputs": [],
   "source": [
    "# find all the hemisphere items\n",
    "items = soup.find_all('div', class_='item')"
   ]
  },
  {
   "cell_type": "code",
   "execution_count": null,
   "id": "36624b5c",
   "metadata": {},
   "outputs": [],
   "source": [
    "# create an empty list to store the hemisphere information\n",
    "hemisphere_title_url = []\n",
    "\n",
    "# loop through each item\n",
    "for item in items:\n",
    "    \n",
    "    # get the title of the hemisphere\n",
    "    title = item.find('h3').text\n",
    "    \n",
    "    # find the url for the small resolution image\n",
    "    image = item.find('img', class_='thumb')['src']\n",
    "    \n",
    "    # append the dictionary to the list\n",
    "    hemisphere_title_url.append({'title':title, 'img_url':image})"
   ]
  },
  {
   "cell_type": "code",
   "execution_count": null,
   "id": "12956cfa",
   "metadata": {},
   "outputs": [],
   "source": [
    "print(hemisphere_title_url)"
   ]
  },
  {
   "cell_type": "code",
   "execution_count": null,
   "id": "c9dc970f",
   "metadata": {},
   "outputs": [],
   "source": [
    "# OPTION 2 (Full resolution)(Clicking on the image and getting back to the main page)"
   ]
  },
  {
   "cell_type": "code",
   "execution_count": null,
   "id": "760c6b08",
   "metadata": {},
   "outputs": [],
   "source": [
    "# find all the hemisphere items\n",
    "items = soup.find_all('div', class_='item')"
   ]
  },
  {
   "cell_type": "code",
   "execution_count": null,
   "id": "2079e244",
   "metadata": {},
   "outputs": [],
   "source": [
    "# an empty list to store the information\n",
    "hemisphere_image_urls = []\n",
    "\n",
    "# loop through each item\n",
    "for item in items:\n",
    "    # get the link to the hemisphere page\n",
    "    link = item.find('a')['href']\n",
    "    \n",
    "    # visit the hemisphere page\n",
    "    browser.visit(url_hemisphere + link)\n",
    "    \n",
    "    # create a BeautifulSoup object for the hemisphere page\n",
    "    html = browser.html\n",
    "    soup = bs(html, 'html.parser')\n",
    "    \n",
    "    # get the title of the hemisphere\n",
    "    title = soup.find('h2', class_='title').text.strip()\n",
    "    \n",
    "    # find the url for the full resolution image\n",
    "    img_url = soup.find('img', class_='wide-image')['src']\n",
    "    img_url = url_hemisphere + img_url\n",
    "    \n",
    "    # create a dictionary for the hemisphere information and append it to the list\n",
    "    hemisphere_info = {'title': title, 'img_url': img_url}\n",
    "    hemisphere_image_urls.append(hemisphere_info)\n",
    "    \n",
    "    # go back to the main page\n",
    "    browser.back()\n",
    "    \n",
    "# close the browser\n",
    "browser.quit()\n"
   ]
  },
  {
   "cell_type": "code",
   "execution_count": null,
   "id": "4b94ae71",
   "metadata": {},
   "outputs": [],
   "source": [
    "# print the list of hemisphere information\n",
    "print(hemisphere_image_urls)"
   ]
  }
 ],
 "metadata": {
  "kernelspec": {
   "display_name": "PythonData",
   "language": "python",
   "name": "pythondata"
  },
  "language_info": {
   "codemirror_mode": {
    "name": "ipython",
    "version": 3
   },
   "file_extension": ".py",
   "mimetype": "text/x-python",
   "name": "python",
   "nbconvert_exporter": "python",
   "pygments_lexer": "ipython3",
   "version": "3.7.13"
  }
 },
 "nbformat": 4,
 "nbformat_minor": 5
}
