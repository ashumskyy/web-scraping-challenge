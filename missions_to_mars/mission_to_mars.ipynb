{
 "cells": [
  {
   "cell_type": "code",
   "execution_count": 1,
   "id": "4b36b079",
   "metadata": {},
   "outputs": [],
   "source": [
    "from splinter import Browser\n",
    "from bs4 import BeautifulSoup as bs\n",
    "from webdriver_manager.chrome import ChromeDriverManager\n",
    "import requests\n",
    "import time\n",
    "import pandas as pd"
   ]
  },
  {
   "cell_type": "code",
   "execution_count": 2,
   "id": "d7d8d02d",
   "metadata": {},
   "outputs": [],
   "source": [
    "# Setup splinter\n",
    "executable_path = {'executable_path': ChromeDriverManager().install()}\n",
    "browser = Browser('chrome', **executable_path, headless=False)"
   ]
  },
  {
   "cell_type": "markdown",
   "id": "bbcc293a",
   "metadata": {},
   "source": [
    "### NASA Mars News"
   ]
  },
  {
   "cell_type": "code",
   "execution_count": 3,
   "id": "26514e4c",
   "metadata": {},
   "outputs": [],
   "source": [
    "# url to the page\n",
    "url_red_plante = 'https://redplanetscience.com'\n",
    "\n",
    "# Use the browser to navigate to the given URL.\n",
    "browser.visit(url_red_plante)"
   ]
  },
  {
   "cell_type": "code",
   "execution_count": 4,
   "id": "4e90e50b",
   "metadata": {},
   "outputs": [],
   "source": [
    "# create a BeautifulSoup object for the NASA News page\n",
    "html = browser.html\n",
    "soup = bs(html, 'html.parser')"
   ]
  },
  {
   "cell_type": "code",
   "execution_count": 5,
   "id": "b2f2b898",
   "metadata": {},
   "outputs": [
    {
     "name": "stdout",
     "output_type": "stream",
     "text": [
      "News title: What's Mars Solar Conjunction, and Why Does It Matter?\n",
      "--------\n",
      "News paragraph: NASA spacecraft at Mars are going to be on their own for a few weeks when the Sun comes between Mars and Earth, interrupting communications.\n"
     ]
    }
   ],
   "source": [
    "# the first article of the page\n",
    "article = soup.find('div', class_='list_text')\n",
    "\n",
    "# the title of the article\n",
    "article_title = article.find('div', class_='content_title').text\n",
    "\n",
    "# the article text (paragraph)\n",
    "article_paragraph = article.find('div', class_='article_teaser_body').text\n",
    "\n",
    "# printing the title and the article\n",
    "print(\"News title: \" + article_title + \"\\n--------\\n\" + \"News paragraph: \" + article_paragraph)\n",
    "    \n",
    "# OPTION 2 with find all\n",
    "\n",
    "# news_title = soup.find_all('div', class_='content_title')[0].text\n",
    "# paragraph_text = soup.find_all('div', class_='article_teaser_body')[0].text   \n",
    "# print(f\"The latest News Title: {news_title}.\")\n",
    "# print('-------------')\n",
    "# print(f\"Paragraph Text: {paragraph_text}.\")\n",
    "\n",
    "\n",
    "\n",
    "# FIND ALL THE TITLES AND PARAGRAPHS\n",
    "\n",
    "# for i in range(len(news_title)):        \n",
    "#     print(\"Title: \", news_title[i].text)\n",
    "#     print(\"Paragraph: \", paragraph_text[i].text)\n",
    "#     print('-------------------')\n"
   ]
  },
  {
   "cell_type": "markdown",
   "id": "de245ba0",
   "metadata": {},
   "source": [
    "### Mars Facts"
   ]
  },
  {
   "cell_type": "code",
   "execution_count": 6,
   "id": "98b84586",
   "metadata": {},
   "outputs": [],
   "source": [
    "# url for the mars facts page\n",
    "url_mars_facts = 'https://galaxyfacts-mars.com'\n"
   ]
  },
  {
   "cell_type": "code",
   "execution_count": 7,
   "id": "ae73f696",
   "metadata": {},
   "outputs": [
    {
     "data": {
      "text/plain": [
       "[                         0                1                2\n",
       " 0  Mars - Earth Comparison             Mars            Earth\n",
       " 1                Diameter:         6,779 km        12,742 km\n",
       " 2                    Mass:  6.39 × 10^23 kg  5.97 × 10^24 kg\n",
       " 3                   Moons:                2                1\n",
       " 4       Distance from Sun:   227,943,824 km   149,598,262 km\n",
       " 5          Length of Year:   687 Earth days      365.24 days\n",
       " 6             Temperature:     -87 to -5 °C      -88 to 58°C,\n",
       "                       0                              1\n",
       " 0  Equatorial Diameter:                       6,792 km\n",
       " 1       Polar Diameter:                       6,752 km\n",
       " 2                 Mass:  6.39 × 10^23 kg (0.11 Earths)\n",
       " 3                Moons:          2 ( Phobos & Deimos )\n",
       " 4       Orbit Distance:       227,943,824 km (1.38 AU)\n",
       " 5         Orbit Period:           687 days (1.9 years)\n",
       " 6  Surface Temperature:                   -87 to -5 °C\n",
       " 7         First Record:              2nd millennium BC\n",
       " 8          Recorded By:           Egyptian astronomers]"
      ]
     },
     "execution_count": 7,
     "metadata": {},
     "output_type": "execute_result"
    }
   ],
   "source": [
    "# reading the html \n",
    "mars_facts = pd.read_html(url_mars_facts)\n",
    "mars_facts"
   ]
  },
  {
   "cell_type": "code",
   "execution_count": 8,
   "id": "1eb123bf",
   "metadata": {},
   "outputs": [
    {
     "data": {
      "text/html": [
       "<div>\n",
       "<style scoped>\n",
       "    .dataframe tbody tr th:only-of-type {\n",
       "        vertical-align: middle;\n",
       "    }\n",
       "\n",
       "    .dataframe tbody tr th {\n",
       "        vertical-align: top;\n",
       "    }\n",
       "\n",
       "    .dataframe thead th {\n",
       "        text-align: right;\n",
       "    }\n",
       "</style>\n",
       "<table border=\"1\" class=\"dataframe\">\n",
       "  <thead>\n",
       "    <tr style=\"text-align: right;\">\n",
       "      <th></th>\n",
       "      <th>Mars</th>\n",
       "      <th>Earth</th>\n",
       "    </tr>\n",
       "    <tr>\n",
       "      <th>Mars - Earth Comparison</th>\n",
       "      <th></th>\n",
       "      <th></th>\n",
       "    </tr>\n",
       "  </thead>\n",
       "  <tbody>\n",
       "    <tr>\n",
       "      <th>Diameter:</th>\n",
       "      <td>6,779 km</td>\n",
       "      <td>12,742 km</td>\n",
       "    </tr>\n",
       "    <tr>\n",
       "      <th>Mass:</th>\n",
       "      <td>6.39 × 10^23 kg</td>\n",
       "      <td>5.97 × 10^24 kg</td>\n",
       "    </tr>\n",
       "    <tr>\n",
       "      <th>Moons:</th>\n",
       "      <td>2</td>\n",
       "      <td>1</td>\n",
       "    </tr>\n",
       "    <tr>\n",
       "      <th>Distance from Sun:</th>\n",
       "      <td>227,943,824 km</td>\n",
       "      <td>149,598,262 km</td>\n",
       "    </tr>\n",
       "    <tr>\n",
       "      <th>Length of Year:</th>\n",
       "      <td>687 Earth days</td>\n",
       "      <td>365.24 days</td>\n",
       "    </tr>\n",
       "    <tr>\n",
       "      <th>Temperature:</th>\n",
       "      <td>-87 to -5 °C</td>\n",
       "      <td>-88 to 58°C</td>\n",
       "    </tr>\n",
       "  </tbody>\n",
       "</table>\n",
       "</div>"
      ],
      "text/plain": [
       "0                                   Mars            Earth\n",
       "Mars - Earth Comparison                                  \n",
       "Diameter:                       6,779 km        12,742 km\n",
       "Mass:                    6.39 × 10^23 kg  5.97 × 10^24 kg\n",
       "Moons:                                 2                1\n",
       "Distance from Sun:        227,943,824 km   149,598,262 km\n",
       "Length of Year:           687 Earth days      365.24 days\n",
       "Temperature:                -87 to -5 °C      -88 to 58°C"
      ]
     },
     "execution_count": 8,
     "metadata": {},
     "output_type": "execute_result"
    }
   ],
   "source": [
    "# getting the first item from the list mars_facts\n",
    "mars_facts_df = pd.DataFrame(mars_facts[0])\n",
    "\n",
    "# assigning the first row of the df as column labels for the DataFrame.\n",
    "mars_facts_df.columns = mars_facts_df.loc[0]\n",
    "\n",
    "# setting the index \n",
    "mars_facts_df.set_index('Mars - Earth Comparison', inplace=True)\n",
    "\n",
    "# dropping not needed column\n",
    "mars_facts_df.drop('Mars - Earth Comparison', inplace=True)\n",
    "mars_facts_df"
   ]
  },
  {
   "cell_type": "code",
   "execution_count": 9,
   "id": "04962337",
   "metadata": {},
   "outputs": [],
   "source": [
    "# saving the df to html\n",
    "mars_facts_df.to_html('mars_facts_table.html')"
   ]
  },
  {
   "cell_type": "markdown",
   "id": "d09fa17b",
   "metadata": {},
   "source": [
    "### JPL Mars Space Images - Featured Image"
   ]
  },
  {
   "cell_type": "code",
   "execution_count": 10,
   "id": "63f83dfd",
   "metadata": {},
   "outputs": [],
   "source": [
    "# navigate to the main page\n",
    "url_images = 'https://spaceimages-mars.com/'\n",
    "browser.visit(url_images)"
   ]
  },
  {
   "cell_type": "code",
   "execution_count": 11,
   "id": "a30c880e",
   "metadata": {},
   "outputs": [],
   "source": [
    "# find all the image button and clicking on it\n",
    "browser.find_by_text(' FULL IMAGE').first.click()\n",
    "\n",
    "# getting the image\n",
    "img = browser.find_by_css('img.fancybox-image')\n",
    "\n",
    "# find the image url\n",
    "featured_image_url = img['src']\n"
   ]
  },
  {
   "cell_type": "code",
   "execution_count": 12,
   "id": "f39cf3f3",
   "metadata": {},
   "outputs": [
    {
     "name": "stdout",
     "output_type": "stream",
     "text": [
      "https://spaceimages-mars.com/image/featured/mars2.jpg\n"
     ]
    }
   ],
   "source": [
    "print(featured_image_url)"
   ]
  },
  {
   "cell_type": "markdown",
   "id": "e8690bb5",
   "metadata": {},
   "source": [
    "### Mars Hemispheres"
   ]
  },
  {
   "cell_type": "code",
   "execution_count": 13,
   "id": "a88b519b",
   "metadata": {},
   "outputs": [],
   "source": [
    "# navigate to the main page\n",
    "url_hemisphere = 'https://marshemispheres.com/'\n",
    "browser.visit(url_hemisphere)"
   ]
  },
  {
   "cell_type": "code",
   "execution_count": 14,
   "id": "0e46ba82",
   "metadata": {},
   "outputs": [],
   "source": [
    "# OPTION 1 (Small resolution)\n",
    "\n",
    "# create a BeautifulSoup object for the hemisphere page\n",
    "html = browser.html\n",
    "soup = bs(html, 'html.parser')"
   ]
  },
  {
   "cell_type": "code",
   "execution_count": 15,
   "id": "10de31c3",
   "metadata": {},
   "outputs": [],
   "source": [
    "# find all the hemisphere items\n",
    "items = soup.find_all('div', class_='item')"
   ]
  },
  {
   "cell_type": "code",
   "execution_count": 16,
   "id": "36624b5c",
   "metadata": {},
   "outputs": [],
   "source": [
    "# create an empty list to store the hemisphere information\n",
    "hemisphere_title_url = []\n",
    "\n",
    "# loop through each item\n",
    "for item in items:\n",
    "    \n",
    "    # get the title of the hemisphere\n",
    "    title = item.find('h3').text\n",
    "    \n",
    "    # find the url for the small resolution image\n",
    "    image = item.find('img', class_='thumb')['src']\n",
    "    \n",
    "    # append the dictionary to the list\n",
    "    hemisphere_title_url.append({'title':title, 'img_url':image})"
   ]
  },
  {
   "cell_type": "code",
   "execution_count": 17,
   "id": "12956cfa",
   "metadata": {},
   "outputs": [
    {
     "name": "stdout",
     "output_type": "stream",
     "text": [
      "[{'title': 'Cerberus Hemisphere Enhanced', 'img_url': 'images/39d3266553462198bd2fbc4d18fbed17_cerberus_enhanced.tif_thumb.png'}, {'title': 'Schiaparelli Hemisphere Enhanced', 'img_url': 'images/08eac6e22c07fb1fe72223a79252de20_schiaparelli_enhanced.tif_thumb.png'}, {'title': 'Syrtis Major Hemisphere Enhanced', 'img_url': 'images/55a0a1e2796313fdeafb17c35925e8ac_syrtis_major_enhanced.tif_thumb.png'}, {'title': 'Valles Marineris Hemisphere Enhanced', 'img_url': 'images/4e59980c1c57f89c680c0e1ccabbeff1_valles_marineris_enhanced.tif_thumb.png'}]\n"
     ]
    }
   ],
   "source": [
    "print(hemisphere_title_url)"
   ]
  },
  {
   "cell_type": "code",
   "execution_count": 18,
   "id": "c9dc970f",
   "metadata": {},
   "outputs": [],
   "source": [
    "# OPTION 2 (Full resolution)(Clicking on the image and getting back to the main page)"
   ]
  },
  {
   "cell_type": "code",
   "execution_count": 19,
   "id": "760c6b08",
   "metadata": {},
   "outputs": [],
   "source": [
    "# find all the hemisphere items\n",
    "items = soup.find_all('div', class_='item')"
   ]
  },
  {
   "cell_type": "code",
   "execution_count": 20,
   "id": "2079e244",
   "metadata": {},
   "outputs": [],
   "source": [
    "# an empty list to store the information\n",
    "hemisphere_image_urls = []\n",
    "\n",
    "# loop through each item\n",
    "for item in items:\n",
    "    # get the link to the hemisphere page\n",
    "    link = item.find('a')['href']\n",
    "    \n",
    "    # visit the hemisphere page\n",
    "    browser.visit(url_hemisphere + link)\n",
    "    \n",
    "    # create a BeautifulSoup object for the hemisphere page\n",
    "    html = browser.html\n",
    "    soup = bs(html, 'html.parser')\n",
    "    \n",
    "    # get the title of the hemisphere\n",
    "    title = soup.find('h2', class_='title').text.strip()\n",
    "    \n",
    "    # find the url for the full resolution image\n",
    "    img_url = soup.find('img', class_='wide-image')['src']\n",
    "    img_url = url_hemisphere + img_url\n",
    "    \n",
    "    # create a dictionary for the hemisphere information and append it to the list\n",
    "    hemisphere_info = {'title': title, 'img_url': img_url}\n",
    "    hemisphere_image_urls.append(hemisphere_info)\n",
    "    \n",
    "    # go back to the main page\n",
    "    browser.back()\n",
    "    \n",
    "# close the browser\n",
    "browser.quit()\n"
   ]
  },
  {
   "cell_type": "code",
   "execution_count": 21,
   "id": "4b94ae71",
   "metadata": {},
   "outputs": [
    {
     "name": "stdout",
     "output_type": "stream",
     "text": [
      "[{'title': 'Cerberus Hemisphere Enhanced', 'img_url': 'https://marshemispheres.com/images/f5e372a36edfa389625da6d0cc25d905_cerberus_enhanced.tif_full.jpg'}, {'title': 'Schiaparelli Hemisphere Enhanced', 'img_url': 'https://marshemispheres.com/images/3778f7b43bbbc89d6e3cfabb3613ba93_schiaparelli_enhanced.tif_full.jpg'}, {'title': 'Syrtis Major Hemisphere Enhanced', 'img_url': 'https://marshemispheres.com/images/555e6403a6ddd7ba16ddb0e471cadcf7_syrtis_major_enhanced.tif_full.jpg'}, {'title': 'Valles Marineris Hemisphere Enhanced', 'img_url': 'https://marshemispheres.com/images/b3c7c6c9138f57b4756be9b9c43e3a48_valles_marineris_enhanced.tif_full.jpg'}]\n"
     ]
    }
   ],
   "source": [
    "# print the list of hemisphere information\n",
    "print(hemisphere_image_urls)"
   ]
  },
  {
   "cell_type": "code",
   "execution_count": null,
   "id": "60803594",
   "metadata": {},
   "outputs": [],
   "source": []
  },
  {
   "cell_type": "code",
   "execution_count": 22,
   "id": "8dc38f89",
   "metadata": {},
   "outputs": [],
   "source": [
    "mars_info_dict = {\n",
    "        'title': article_title,\n",
    "        'paragraph': article_paragraph,\n",
    "        'featured_img': featured_image_url,\n",
    "        'mars_facts': mars_facts_df,\n",
    "        'hemisphere_img': hemisphere_image_urls}"
   ]
  },
  {
   "cell_type": "code",
   "execution_count": 23,
   "id": "ec818bc1",
   "metadata": {},
   "outputs": [
    {
     "name": "stdout",
     "output_type": "stream",
     "text": [
      "{'title': \"What's Mars Solar Conjunction, and Why Does It Matter?\", 'paragraph': 'NASA spacecraft at Mars are going to be on their own for a few weeks when the Sun comes between Mars and Earth, interrupting communications.', 'featured_img': 'https://spaceimages-mars.com/image/featured/mars2.jpg', 'mars_facts': 0                                   Mars            Earth\n",
      "Mars - Earth Comparison                                  \n",
      "Diameter:                       6,779 km        12,742 km\n",
      "Mass:                    6.39 × 10^23 kg  5.97 × 10^24 kg\n",
      "Moons:                                 2                1\n",
      "Distance from Sun:        227,943,824 km   149,598,262 km\n",
      "Length of Year:           687 Earth days      365.24 days\n",
      "Temperature:                -87 to -5 °C      -88 to 58°C, 'hemisphere_img': [{'title': 'Cerberus Hemisphere Enhanced', 'img_url': 'https://marshemispheres.com/images/f5e372a36edfa389625da6d0cc25d905_cerberus_enhanced.tif_full.jpg'}, {'title': 'Schiaparelli Hemisphere Enhanced', 'img_url': 'https://marshemispheres.com/images/3778f7b43bbbc89d6e3cfabb3613ba93_schiaparelli_enhanced.tif_full.jpg'}, {'title': 'Syrtis Major Hemisphere Enhanced', 'img_url': 'https://marshemispheres.com/images/555e6403a6ddd7ba16ddb0e471cadcf7_syrtis_major_enhanced.tif_full.jpg'}, {'title': 'Valles Marineris Hemisphere Enhanced', 'img_url': 'https://marshemispheres.com/images/b3c7c6c9138f57b4756be9b9c43e3a48_valles_marineris_enhanced.tif_full.jpg'}]}\n"
     ]
    }
   ],
   "source": [
    "print(mars_info_dict)"
   ]
  },
  {
   "cell_type": "code",
   "execution_count": null,
   "id": "e9d6edc9",
   "metadata": {},
   "outputs": [],
   "source": []
  }
 ],
 "metadata": {
  "kernelspec": {
   "display_name": "PythonData",
   "language": "python",
   "name": "pythondata"
  },
  "language_info": {
   "codemirror_mode": {
    "name": "ipython",
    "version": 3
   },
   "file_extension": ".py",
   "mimetype": "text/x-python",
   "name": "python",
   "nbconvert_exporter": "python",
   "pygments_lexer": "ipython3",
   "version": "3.7.13"
  }
 },
 "nbformat": 4,
 "nbformat_minor": 5
}
